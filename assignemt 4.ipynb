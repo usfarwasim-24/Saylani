{
 "cells": [
  {
   "cell_type": "code",
   "execution_count": 1,
   "metadata": {},
   "outputs": [
    {
     "name": "stdout",
     "output_type": "stream",
     "text": [
      "Enter the Book's title: hARRY pOTTER\n",
      "My favorite books is  hARRY pOTTER\n"
     ]
    }
   ],
   "source": [
    "#ASSIGNMENT 4\n",
    "#Q1\n",
    "def favorite_book(book):\n",
    "    print(\"My favorite books is \",book)\n",
    "book = input(\"Enter the Book's title: \")\n",
    "favorite_book(book)\n"
   ]
  },
  {
   "cell_type": "code",
   "execution_count": 2,
   "metadata": {},
   "outputs": [
    {
     "name": "stdout",
     "output_type": "stream",
     "text": [
      "What's your Age: 21\n",
      "Your ticket's is $15\n",
      "Do you want to Continue Press y for Yes & Press any keys for exit: no\n",
      "Good Bye Have Fun!\n"
     ]
    }
   ],
   "source": [
    "#ASSIGNMENT 4\n",
    "#Q2\n",
    "repeat = 'y'\n",
    "while repeat == 'y':\n",
    "    age = int(input(\"What's your Age: \"))\n",
    "    if age < 3:\n",
    "        print(\"Your ticket's price is Free\")\n",
    "    elif age >= 3 and age <= 12:\n",
    "        print(\"Your ticket's price is $10\")\n",
    "    elif age > 12:\n",
    "        print(\"Your ticket's is $15\")\n",
    "    else:\n",
    "        print(\"Invalid Input\")\n",
    "    repeat = input(\"Do you want to Continue Press y for Yes & Press any keys for exit: \")\n",
    "    if repeat != 'y':\n",
    "        print(\"Good Bye Have Fun!\")"
   ]
  },
  {
   "cell_type": "code",
   "execution_count": 3,
   "metadata": {},
   "outputs": [
    {
     "name": "stdout",
     "output_type": "stream",
     "text": [
      "The City's Name:  Karachi\n",
      "The Information:  {'Population': '20 million', 'Fact': 'City of Lights', 'Country': 'Pakistan'} \n",
      "\n",
      "The City's Name:  Paris\n",
      "The Information:  {'Population': '2.141 million', 'Fact': 'City of Love', 'Country': 'France'} \n",
      "\n",
      "The City's Name:  Moscow\n",
      "The Information:  {'Population': '11.92 million', 'Fact': 'Unconquered City', 'Country': 'Russia'} \n",
      "\n"
     ]
    }
   ],
   "source": [
    "#ASSIGNMENT 4\n",
    "#Q3\n",
    "cities = {\n",
    "    \"Karachi\": {\n",
    "        \"Population\": \"20 million\",\n",
    "        \"Fact\": \"City of Lights\",\n",
    "        \"Country\": \"Pakistan\"\n",
    "    },\n",
    "    \"Paris\": {\n",
    "        \"Population\": \"2.141 million\",\n",
    "        \"Fact\": \"City of Love\",\n",
    "        \"Country\": \"France\"\n",
    "    },\n",
    "    \"Moscow\": {\n",
    "        \"Population\": \"11.92 million\",\n",
    "        \"Fact\": \"Unconquered City\",\n",
    "        \"Country\": \"Russia\"\n",
    "    }\n",
    "}\n",
    "for key,value in cities.items():\n",
    "    print(\"The City's Name: \",key)\n",
    "    print(\"The Information: \",value,\"\\n\")"
   ]
  },
  {
   "cell_type": "code",
   "execution_count": null,
   "metadata": {},
   "outputs": [
    {
     "name": "stdout",
     "output_type": "stream",
     "text": [
      "Guess the Correct Number (It may differ from the Computer's Guess number!!: 11\n",
      "You Guess Lower Number\n",
      "Computer's Guess Number:  27\n",
      "Guess the Correct Number (It may differ from the Computer's Guess number!!: 11\n",
      "You Guess Higher Number\n",
      "Computer's Guess Number:  9\n"
     ]
    }
   ],
   "source": [
    "#ASSIGNMENT 4\n",
    "#Q4\n",
    "import random\n",
    "count = 0\n",
    "while count < 3:\n",
    "    guess = int(input(\"Guess the Correct Number (It may differ from the Computer's Guess number!!: \"))\n",
    "    count += 1\n",
    "    rand = random.randint(1,30)\n",
    "    if guess == rand:\n",
    "        print(\"You Guess Correct Number\")\n",
    "    elif guess > rand:\n",
    "        print(\"You Guess Higher Number\")\n",
    "    elif guess < rand:\n",
    "        print(\"You Guess Lower Number\")\n",
    "    print(\"Computer's Guess Number: \",rand)"
   ]
  },
  {
   "cell_type": "code",
   "execution_count": null,
   "metadata": {},
   "outputs": [],
   "source": [
    "print(\"Original Dictionary\\n\")\n",
    "person = {\n",
    "    \"first_name\": \"Usfar\",\n",
    "    \"last_name\": \"Wasim\",\n",
    "    \"age\": 21,\n",
    "    \"city\": \"Karachi\"\n",
    "}\n",
    "print(person,\"\\n\")\n",
    "add = input(\"\\nEnter your Qualification: \")\n",
    "person[\"Qualification\"] = add\n",
    "print(\"\\nDictionary after add new key\\n\")\n",
    "print(\"\\n\",person)\n",
    "update = input(\"\\nEnter your Higher Academic Level: \")\n",
    "person[\"Qualification\"] = update\n",
    "print(\"\\nDictionary after update\\n\")\n",
    "print(\"\\n\",person)\n",
    "del person[\"Qualification\"]\n",
    "print(\"\\nDictionary after delete\\n\")\n",
    "print(\"\\n\",person)"
   ]
  },
  {
   "cell_type": "code",
   "execution_count": null,
   "metadata": {},
   "outputs": [],
   "source": []
  }
 ],
 "metadata": {
  "kernelspec": {
   "display_name": "Python 3",
   "language": "python",
   "name": "python3"
  },
  "language_info": {
   "codemirror_mode": {
    "name": "ipython",
    "version": 3
   },
   "file_extension": ".py",
   "mimetype": "text/x-python",
   "name": "python",
   "nbconvert_exporter": "python",
   "pygments_lexer": "ipython3",
   "version": "3.7.4"
  }
 },
 "nbformat": 4,
 "nbformat_minor": 2
}
