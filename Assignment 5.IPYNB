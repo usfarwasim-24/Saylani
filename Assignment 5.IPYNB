{
 "cells": [
  {
   "cell_type": "code",
   "execution_count": 1,
   "metadata": {},
   "outputs": [
    {
     "name": "stdout",
     "output_type": "stream",
     "text": [
      "Enter Number : 1\n",
      "Factorial of a number is: \n",
      "1\n"
     ]
    }
   ],
   "source": [
    "# Question#01\n",
    "\n",
    "def Integer(number):\n",
    "    if int(number) > 0 :\n",
    "        return True\n",
    "    else:\n",
    "        return False\n",
    "def calcFactorial(number):\n",
    "    factorial = 1\n",
    "    if Integer(number) == True:\n",
    "        number = int(number)\n",
    "        for i in range(1, number + 1):\n",
    "            factorial = factorial * i\n",
    "        print(factorial)\n",
    "    else:\n",
    "        print(\"Invalid input\")\n",
    "\n",
    "factCalc = input(\"Enter Number : \")\n",
    "print(\"Factorial of a number is: \" )\n",
    "calcFactorial(factCalc)"
   ]
  },
  {
   "cell_type": "code",
   "execution_count": 2,
   "metadata": {},
   "outputs": [
    {
     "name": "stdout",
     "output_type": "stream",
     "text": [
      "Enter Any letter: t\n",
      "Number of Upper Case Letter: 0 \n",
      "Number of Lower Case letter : 1\n"
     ]
    }
   ],
   "source": [
    "# Question#02\n",
    "def caseCounter(string):\n",
    "    upper = 0\n",
    "    lower = 0\n",
    "    string = 'abcdefghijklmnopqrstuvwxyz'\n",
    "    for letter in strings:\n",
    "        for Letter in string:\n",
    "            if letter == Letter:\n",
    "                 lower += 1\n",
    "            elif letter == Letter.upper():\n",
    "                 upper += 1 \n",
    "                                \n",
    "    print(\"Number of Upper Case Letter: {} \\nNumber of Lower Case letter : {}\".format(upper, lower))\n",
    "strings = input(\"Enter Any letter: \")\n",
    "caseCounter(strings)"
   ]
  },
  {
   "cell_type": "code",
   "execution_count": 3,
   "metadata": {},
   "outputs": [
    {
     "name": "stdout",
     "output_type": "stream",
     "text": [
      "2\n",
      "4\n",
      "8\n",
      "10\n",
      "14\n",
      "18\n",
      "20\n"
     ]
    }
   ],
   "source": [
    "# Question#03\n",
    "randomList = [2,4,5,7,8,10,14,15,18,19,20]\n",
    "for element in randomList:\n",
    "    if element % 2 == 0:\n",
    "        print(element)"
   ]
  },
  {
   "cell_type": "code",
   "execution_count": 4,
   "metadata": {},
   "outputs": [
    {
     "name": "stdout",
     "output_type": "stream",
     "text": [
      "Enter any word: tomato\n",
      "Not palindrome Word\n",
      "Not a palindrome\n"
     ]
    }
   ],
   "source": [
    "# Question#04\n",
    "def Palindrome(sen):\n",
    "    firstHalf = []\n",
    "    secondHalf = []\n",
    "    if len(sen) % 2 == 1:\n",
    "        oddList = (len(sen) // 2)\n",
    "        for element in range(oddList):\n",
    "             firstHalf.append(sen[element])\n",
    "        for element in range(-1, -(len(sen)-oddList), -1):\n",
    "             secondHalf.append(sen[element])\n",
    "    else:\n",
    "         print(\"Not palindrome Word\")\n",
    "    palindrome = False\n",
    "    for element in range(len(firstHalf)):\n",
    "        if firstHalf[element] == secondHalf[element]:\n",
    "             palindrome = True\n",
    "    if palindrome == True:\n",
    "         print(\"{} is a Palindrome\".format(sen))\n",
    "    else:\n",
    "         print(\"Not a palindrome\")\n",
    "sen = input('Enter any word: ')\n",
    "Palindrome(sen)"
   ]
  },
  {
   "cell_type": "code",
   "execution_count": 6,
   "metadata": {},
   "outputs": [
    {
     "name": "stdout",
     "output_type": "stream",
     "text": [
      "Enter Shopping items [exit to abort]: pant\n",
      "Enter Shopping items [exit to abort]: underwear\n",
      "Enter Shopping items [exit to abort]: exit\n",
      "You purchased: pant\n",
      "You purchased: underwear\n"
     ]
    }
   ],
   "source": [
    "#Question #05\n",
    "def List(*items):\n",
    "    Items = []\n",
    "    while True:\n",
    "        item = input(\"Enter Shopping items [exit to abort]: \")\n",
    "        if item != 'exit':\n",
    "             Items.append(item)\n",
    "        else:\n",
    "             break\n",
    "    for item in range(len(Items)):\n",
    "        print(\"You purchased: {}\".format(Items[item]))\n",
    "List()"
   ]
  },
  {
   "cell_type": "code",
   "execution_count": null,
   "metadata": {},
   "outputs": [],
   "source": []
  }
 ],
 "metadata": {
  "kernelspec": {
   "display_name": "Python 3",
   "language": "python",
   "name": "python3"
  },
  "language_info": {
   "codemirror_mode": {
    "name": "ipython",
    "version": 3
   },
   "file_extension": ".py",
   "mimetype": "text/x-python",
   "name": "python",
   "nbconvert_exporter": "python",
   "pygments_lexer": "ipython3",
   "version": "3.7.4"
  }
 },
 "nbformat": 4,
 "nbformat_minor": 2
}
