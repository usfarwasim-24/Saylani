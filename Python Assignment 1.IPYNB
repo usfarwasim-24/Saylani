{
 "cells": [
  {
   "cell_type": "code",
   "execution_count": 1,
   "metadata": {},
   "outputs": [
    {
     "name": "stdout",
     "output_type": "stream",
     "text": [
      "Twinkle, twinkle, little star,\n",
      "      How I wonder what you are!\n",
      "            Up above the world so high,\n",
      "            Like a diamond in the sky.\n",
      "Twinkle, twinkle, little star,\n",
      "      How I wonder what you are!\n",
      "\n"
     ]
    }
   ],
   "source": [
    "#Question 1\n",
    "a = \"Twinkle, twinkle, little star,\\n\"\n",
    "b = \"      How I wonder what you are!\\n\"\n",
    "c = \"            Up above the world so high,\\n\"\n",
    "d = \"            Like a diamond in the sky.\\n\"\n",
    "e = \"Twinkle, twinkle, little star,\\n\"\n",
    "f = \"      How I wonder what you are!\\n\"\n",
    "g = a+b+c+d+e+f\n",
    "print (g)"
   ]
  },
  {
   "cell_type": "code",
   "execution_count": 2,
   "metadata": {},
   "outputs": [
    {
     "name": "stdout",
     "output_type": "stream",
     "text": [
      "Python 3.7 Version \n"
     ]
    }
   ],
   "source": [
    "#Question 2\n",
    "a= \"Python\"\n",
    "b= \" 3.7 Version \"\n",
    "c=a+b\n",
    "print(c)"
   ]
  },
  {
   "cell_type": "code",
   "execution_count": 3,
   "metadata": {},
   "outputs": [
    {
     "name": "stdout",
     "output_type": "stream",
     "text": [
      "Current date and time: \n",
      "2019-11-05 08:19:28.445193\n"
     ]
    }
   ],
   "source": [
    "#Question 3\n",
    "import datetime\n",
    "now = datetime.datetime.now()\n",
    "print(\"Current date and time: \")\n",
    "print(str(now))"
   ]
  },
  {
   "cell_type": "code",
   "execution_count": 4,
   "metadata": {},
   "outputs": [
    {
     "name": "stdout",
     "output_type": "stream",
     "text": [
      "enter radius of a circle = 4\n",
      "area of a circle: 50.27552\n"
     ]
    }
   ],
   "source": [
    "#Question 4\n",
    "r= float(input(\"enter radius of a circle = \"))\n",
    "pi=3.14222\n",
    "area = pi*float(r**2)\n",
    "print(\"area of a circle:\",area)"
   ]
  },
  {
   "cell_type": "code",
   "execution_count": 5,
   "metadata": {},
   "outputs": [
    {
     "name": "stdout",
     "output_type": "stream",
     "text": [
      " enter your first name Wasim\n",
      " enter your last name Usfar\n",
      "Usfar Wasim\n"
     ]
    }
   ],
   "source": [
    "#Question 5\n",
    "first_name = input (\" enter your first name \")\n",
    "last_name = input (\" enter your last name \")\n",
    "print (last_name + \" \" + first_name)"
   ]
  },
  {
   "cell_type": "code",
   "execution_count": 6,
   "metadata": {},
   "outputs": [
    {
     "name": "stdout",
     "output_type": "stream",
     "text": [
      " enter your first number 67\n",
      " enter your second number 3\n",
      "70\n"
     ]
    }
   ],
   "source": [
    "#Question 6\n",
    "x = int(input (\" enter your first number \"))\n",
    "y = int(input (\" enter your second number \")) \n",
    "z= x+y\n",
    "print (z)"
   ]
  },
  {
   "cell_type": "code",
   "execution_count": null,
   "metadata": {},
   "outputs": [],
   "source": [
    "#Grade CALCULATOR\n",
    "per = float(input (\"enter percentage = \"))\n",
    "if per >= 80 and per <= 100:\n",
    "    print (\"A+\")\n",
    "elif per >= 70 and per < 80 :\n",
    "    print (\"A\")\n",
    "elif per >= 60 and per < 70 :\n",
    "    print (\"B\")\n",
    "elif per >= 50 and per < 60:\n",
    "    print (\"C\")\n",
    "elif per >= 40 and per < 50:\n",
    "    print(\"D\")\n",
    "elif per >= 33 and per < 40:\n",
    "    print (\"E\")\n",
    "elif per >= 0 and per < 33:\n",
    "    print (\"fail\")\n",
    "else :\n",
    "    print (\"you have given inappropriate %\")"
   ]
  },
  {
   "cell_type": "code",
   "execution_count": null,
   "metadata": {},
   "outputs": [],
   "source": []
  },
  {
   "cell_type": "code",
   "execution_count": null,
   "metadata": {},
   "outputs": [],
   "source": []
  }
 ],
 "metadata": {
  "kernelspec": {
   "display_name": "Python 3",
   "language": "python",
   "name": "python3"
  },
  "language_info": {
   "codemirror_mode": {
    "name": "ipython",
    "version": 3
   },
   "file_extension": ".py",
   "mimetype": "text/x-python",
   "name": "python",
   "nbconvert_exporter": "python",
   "pygments_lexer": "ipython3",
   "version": "3.7.4"
  }
 },
 "nbformat": 4,
 "nbformat_minor": 2
}
