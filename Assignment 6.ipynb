{
 "cells": [
  {
   "cell_type": "code",
   "execution_count": null,
   "metadata": {},
   "outputs": [],
   "source": [
    "#SYED USFAR WASIM\n",
    "# Question 1:\n",
    "# Define Object Oriented Programming Language?\n",
    "# Ans: \n",
    "Object-oriented programming (OOP) refers to a type of computer programming (software design)\n",
    "in which programmers define not only the data type of a data structure, \n",
    "but also the types of operations (functions) that can be applied to the data structure."
   ]
  },
  {
   "cell_type": "code",
   "execution_count": null,
   "metadata": {},
   "outputs": [],
   "source": [
    "#SYED USFAR WASIM\n",
    "# Question 2:\n",
    "# List down the Benefits of OOP?\n",
    "\n",
    "=> Our code is more self defined explanatory.\n",
    "=> Our code is more readable and reuseable.\n",
    "=> It increases the speed to write the code.\n",
    "=> Our code is easy to maintain.\n"
   ]
  },
  {
   "cell_type": "code",
   "execution_count": null,
   "metadata": {},
   "outputs": [],
   "source": [
    "#SYED USFAR WASIM\n",
    "# Question 3:\n",
    "# Differentiate between function and method?\n",
    "# Ans:\n",
    "\n",
    "A function is a piece of code usually written in the scope of global code or in a function itself\n",
    "(nested functions).\n",
    "We have to call a function by its name explicitly and if needed we have to pass the parameters too.\n",
    "On the other hand, A method is defined inside an objects or class definition. \n",
    "We can accesss this object by the name of the class or the object \n",
    "and we dont have to pass parameters explicitly."
   ]
  },
  {
   "cell_type": "code",
   "execution_count": null,
   "metadata": {},
   "outputs": [],
   "source": [
    "#SYED USFAR WASIM\n",
    "# Question 4:\n",
    "# Define the following terms:\n",
    "# 1. Class\n",
    "# 2. Object\n",
    "# 3. Attribute\n",
    "# 4. Behavior\n",
    "# Ans:\n",
    "1 => A 'class' is a user defined datatype that programmers use to create other objects of \n",
    "any given class type.\n",
    "With class we can set any initial values and attributes for all the other objects that are going to be \n",
    "created in future from the given class.\n",
    "2 => In the class-based object-oriented programming paradigm, \n",
    "'object' refers to a particular instance of a class,\n",
    "where the object can be a combination of variables, functions and data structures.\n",
    "3 => 'Attributes' are data stored inside a class or instance and represent the state or \n",
    "quality of the class or instance. Attributes can be termed as noun or adjective, \n",
    "while methods are the verb of the class.\n",
    "4 => The 'behavior' of an object is defined by its methods, which are the functions and subroutines \n",
    "defined within the object class."
   ]
  },
  {
   "cell_type": "code",
   "execution_count": 6,
   "metadata": {},
   "outputs": [
    {
     "name": "stdout",
     "output_type": "stream",
     "text": [
      "Mercedes Benz 2018 Blue 3\n",
      "BRV is stopped.\n",
      "Sportage is now being driven.\n",
      "Mehran is totalled!\n"
     ]
    }
   ],
   "source": [
    "#SYED USFAR WASIM\n",
    "# Question 5:\n",
    "# Write a code in python in which create a class named it Car which\n",
    "# have 5 attributes such like (model, color and name etc.) and 3\n",
    "# methods. And create 5 object instance from that class.\n",
    "\n",
    "# Ans:\n",
    "class Car:\n",
    "    def __init__(self, name, brand, model, color, doors):\n",
    "        self.name = name\n",
    "        self.brand = brand\n",
    "        self.model = model\n",
    "        self.color =  color\n",
    "        self.doors = doors\n",
    "    def printCar(self):\n",
    "        print(self.name,self.brand, self.model, self.color, self.doors)\n",
    "    def drive(self):\n",
    "        print(self.name, \"is now being driven.\")\n",
    "    def stop(self):\n",
    "        print(self.name, \"is stopped.\")\n",
    "    def wrecked(self):\n",
    "        print(self.name,\"is totalled!\")\n",
    "car1 = Car(\"Mehran\", \"Suzuki\", \"2009\", \"White\", 4)\n",
    "car2 = Car(\"Mercedes\", \"Benz\", \"2018\", \"Blue\", 3)\n",
    "car3 = Car(\"Sportage\", \"Kia\",\"2005\", \"Green\", 4)\n",
    "car4 = Car(\"Corolla\", \"Toyota\", \"2019\", \"Black\", 23)\n",
    "car5 = Car(\"BRV\", \"Honda\", \"2018\", \"Silver\", 1)\n",
    "car2.printCar()\n",
    "car5.stop()\n",
    "car3.drive()\n",
    "car1.wrecked()"
   ]
  },
  {
   "cell_type": "code",
   "execution_count": null,
   "metadata": {},
   "outputs": [],
   "source": []
  }
 ],
 "metadata": {
  "kernelspec": {
   "display_name": "Python 3",
   "language": "python",
   "name": "python3"
  },
  "language_info": {
   "codemirror_mode": {
    "name": "ipython",
    "version": 3
   },
   "file_extension": ".py",
   "mimetype": "text/x-python",
   "name": "python",
   "nbconvert_exporter": "python",
   "pygments_lexer": "ipython3",
   "version": "3.7.4"
  }
 },
 "nbformat": 4,
 "nbformat_minor": 2
}
